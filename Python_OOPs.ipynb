{
  "nbformat": 4,
  "nbformat_minor": 0,
  "metadata": {
    "colab": {
      "provenance": []
    },
    "kernelspec": {
      "name": "python3",
      "display_name": "Python 3"
    },
    "language_info": {
      "name": "python"
    }
  },
  "cells": [
    {
      "cell_type": "markdown",
      "source": [
        "1. What is Object-Oriented Programming (OOP)\n",
        "   - An instance of a class.\n",
        "\n",
        "     my_car = Car(\"Toyota\", 2022)\n",
        "\n",
        "   -  Encapsulation\n",
        "\n",
        "   Hiding internal state; interacting through methods only.\n",
        "\n",
        "   Protects object integrity.\n",
        "\n",
        "   - Abstraction\n",
        "\n",
        "   Shows only essential features; hides complexity.\n",
        "\n",
        "   - Inheritance\n",
        "\n",
        "   One class can inherit attributes/methods from another.\n",
        "\n",
        "   class ElectricCar(Car):\n",
        "    def __init__(self, brand, year, battery_capacity):\n",
        "        super().__init__(brand, year)\n",
        "        self.battery_capacity = battery_capacity\n",
        "\n",
        "   - Polymorphism\n",
        "\n",
        "   One interface, many implementations.\n",
        "\n",
        "   def start_vehicle(vehicle):\n",
        "    vehicle.start()\n",
        "\n",
        "    ✅ Benefits of OOP\n",
        "\n",
        "    Modularity – Organized code\n",
        "\n",
        "    Reusability – Use classes across programs\n",
        "\n",
        "    Scalability – Easy to grow\n",
        "\n",
        "    Maintainability – Easier to debug\n",
        "\n",
        "2.What is a class in OOP?\n",
        "   - A **class** is a fundamental concept in Object-Oriented Programming (OOP). It acts as a **blueprint** for creating objects. A class defines the **attributes** (data) and **methods** (functions) that the objects created from it will have.\n",
        "\n",
        "   - Analogy:\n",
        "     A class is like an **architect's blueprint** for a house. It contains the plan for what the house should look like and how it should function. You can create many houses (objects) from the same blueprint (class), and each one can have different values like paint color or furniture.\n",
        "\n",
        "    - Key Features of a Class:\n",
        "    - Groups **data** and **functions** together.\n",
        "    - Allows creation of multiple **objects** (instances) with the same structure.\n",
        "    - Each object can hold different values for its attributes.\n",
        "\n",
        "3. What is an object in OOP?\n",
        "   - An object is a real-world entity or instance of a class in Object-Oriented Programming. It is created using a class and contains both:\n",
        "\n",
        "   - Attributes (data) — variables that describe the object\n",
        "\n",
        "   - Methods (behavior) — functions that operate on the data\n",
        "\n",
        "   Features of an Object:\n",
        "\n",
        "     Identity: Each object has a unique identity (memory address).\n",
        "\n",
        "      State: Defined by the values of its attributes.\n",
        "\n",
        "      Behavior: Defined by the methods it can perform.\n",
        "\n",
        "4. What is the difference between abstraction and encapsulation?\n",
        "\n",
        "        - 🔹 Abstraction — Hiding Complexity\n",
        "\n",
        "      Definition:\n",
        "      Abstraction is the concept of hiding the internal implementation details of a system and showing only the relevant features to the user.\n",
        "\n",
        "      Purpose:\n",
        "      To reduce complexity and allow the programmer to focus on interactions at a higher level.\n",
        "\n",
        "      Example:\n",
        "      When you use a smartphone, you don’t need to know how the internal circuits work — you just interact with a screen and apps.\n",
        "\n",
        "      In Code:\n",
        "      Using an interface or an abstract class in languages like Java, C++, or C#.\n",
        "\n",
        "      abstract class Animal {\n",
        "          abstract void makeSound();  // No implementation\n",
        "      }\n",
        "\n",
        "      class Dog extends Animal {\n",
        "          void makeSound() {\n",
        "              System.out.println(\"Bark\");\n",
        "          }\n",
        "      }\n",
        "\n",
        "\n",
        "      You don’t need to know how Dog makes a sound — you just call makeSound().\n",
        "\n",
        "      🔹 Encapsulation — Hiding Data\n",
        "\n",
        "      Definition:\n",
        "      Encapsulation is the process of bundling data (variables) and methods (functions) that operate on the data into a single unit (class), and restricting access to some of the object's components.\n",
        "\n",
        "      Purpose:\n",
        "      To protect the internal state of the object and enforce rules on how it can be accessed or modified.\n",
        "\n",
        "      In Code:\n",
        "      Using private variables and public getter/setter methods.\n",
        "\n",
        "      class Person {\n",
        "          private String name;  // can't access directly\n",
        "\n",
        "          public String getName() {\n",
        "              return name;\n",
        "          }\n",
        "\n",
        "          public void setName(String newName) {\n",
        "              name = newName;\n",
        "          }\n",
        "      }\n",
        "\n",
        "5.  What are dunder methods in Python?\n",
        "      \n",
        "   - **Dunder methods** (short for **double underscore methods**) are special methods in Python that begin and end with double underscores, such as `__init__`, `__str__`, `__add__`, etc.\n",
        "\n",
        "     They allow you to define how your objects behave with built-in Python functions and operators. These methods help make your classes behave more like built-in types.\n",
        "\n",
        "   -  Common Dunder Methods\n",
        "\n",
        "    | Method | Description |\n",
        "    |--------|-------------|\n",
        "    | `__init__` | Constructor, initializes an object |\n",
        "    | `__str__` | Defines string representation (`print`) |\n",
        "    | `__repr__` | Official string representation (`repr`) |\n",
        "    | `__len__` | Length of object (`len(obj)`) |\n",
        "    | `__getitem__` | Access with brackets (`obj[key]`) |\n",
        "    | `__setitem__` | Set value with brackets (`obj[key] = value`) |\n",
        "    | `__add__` | Addition with `+` |\n",
        "    | `__eq__` | Equality check with `==` |\n",
        "    | `__call__` | Make object callable like a function |\n",
        "    | `__iter__` and `__next__` | Makes object iterable |\n",
        "    | `__enter__` and `__exit__` | Context manager support (`with` statement) |\n",
        "\n",
        "6. Explain the concept of inheritance in OOP\n",
        "     - Inheritance in Object-Oriented Programming (OOP)\n",
        "\n",
        "      **Inheritance** is a core concept in Object-Oriented Programming (OOP) where a **child class** (also called a **subclass**) inherits the attributes and methods of a **parent class** (or **superclass**).\n",
        "\n",
        "      ### 🔹 Why Use Inheritance?\n",
        "      - **Code Reusability**: Reuse existing code from the parent class.\n",
        "      - **Hierarchy**: Organize classes in a meaningful structure.\n",
        "      - **Extensibility**: Add or override functionality in the child class.\n",
        "\n",
        "      ---\n",
        "\n",
        "      ### Terminology\n",
        "      - **Base class (parent)**: The class being inherited from.\n",
        "      - **Derived class (child)**: The class that inherits from the base.\n",
        "\n",
        "      ---\n",
        "\n",
        "      ### Key Points\n",
        "      - A child class inherits all **non-private** properties and methods from the parent class.\n",
        "      - A child class can:\n",
        "        - Add new methods/attributes.\n",
        "        - Override parent class methods (polymorphism).\n",
        "      - Use `super()` to refer to the parent class.\n",
        "\n",
        "      ---\n",
        "\n",
        "7. What is polymorphism in OOP?\n",
        "   - Polymorphism means \"many forms\". In Object-Oriented Programming (OOP), it allows different classes to be treated as if they were the same type, even if they behave differently.\n",
        "\n",
        "8.  How is encapsulation achieved in Python?\n",
        "   -  Encapsulation is the OOP concept of bundling data (attributes) and methods (functions) that operate on the data into a single unit — a class — and restricting direct access to some parts of it.\n",
        "\n",
        "      How It’s Achieved in Python:\n",
        "\n",
        "      Using private variables by prefixing with an underscore:\n",
        "\n",
        "      _protected_var: by convention, meant for internal use.\n",
        "\n",
        "      __private_var: name-mangled to prevent external access.\n",
        "\n",
        "9. What is a constructor in Python?\n",
        "   - A constructor in Python is a special method called __init__() that automatically runs when an object is created from a class. It’s used to initialize (set up) the object’s properties.\n",
        "\n",
        "      Key Points:\n",
        "\n",
        "      The constructor method is always named __init__.\n",
        "\n",
        "      It is called automatically when you create a new object.\n",
        "\n",
        "      You can pass arguments to set up the object’s initial state.\n",
        "\n",
        "10. What are class and static methods in Python?\n",
        "   - n Python, both class methods and static methods are used when you want functionality that relates to the class but doesn't necessarily need access to instance-specific data.\n",
        "\n",
        "      They are defined using decorators:\n",
        "\n",
        "      @classmethod\n",
        "\n",
        "      @staticmethod\n",
        "\n",
        "       1. Class Method (@classmethod)\n",
        "\n",
        "      Takes cls as the first parameter (refers to the class, not an instance).\n",
        "\n",
        "      Can access or modify class variables.\n",
        "\n",
        "11. What is method overloading in Python?\n",
        "   - Method Overloading is the ability to define multiple methods with the same name but different parameters.\n",
        "\n",
        "      Python Doesn't Support True Method Overloading\n",
        "\n",
        "      Unlike some languages (e.g., Java or C++), Python does not support method overloading directly. If you define multiple methods with the same name in a class, the last one overrides the previous ones.\n",
        "\n",
        "      Python's Way: Using Default Arguments or *args, **kwargs\n",
        "\n",
        "      Python simulates method overloading by:\n",
        "\n",
        "      Using default arguments\n",
        "\n",
        "      Using *args and **kwargs to accept a variable number of arguments\n",
        "\n",
        "12. What is method overriding in OOP?\n",
        "   - Method Overriding in Object-Oriented Programming (OOP) is when a subclass provides a specific implementation of a method that is already defined in its parent class.\n",
        "\n",
        "      Key Points:\n",
        "\n",
        "      The method name must be the same in both parent and child classes.\n",
        "\n",
        "      Used to change or extend behavior of the parent class method.\n",
        "\n",
        "      It supports the concept of polymorphism.\n",
        "\n",
        "13. What is a property decorator in Python?\n",
        "   - The @property decorator in Python is used to turn a method into a \"getter\" — meaning it allows you to access a method like an attribute, without using parentheses ().\n",
        "\n",
        "      Why Use @property?\n",
        "\n",
        "      To control access to private attributes.\n",
        "\n",
        "      To make getter methods behave like attributes.\n",
        "\n",
        "      To add logic around reading or setting a value without changing how it’s used.\n",
        "\n",
        "14. Why is polymorphism important in OOP?\n",
        "   - Polymorphism — meaning “many forms” — is a core concept in Object-Oriented Programming (OOP) that allows objects of different classes to be treated through a common interface, usually via method overriding or shared method names.\n",
        "\n",
        "      Key Reasons Why Polymorphism Is Important:\n",
        "      1. Code Reusability\n",
        "\n",
        "      You can write code that works with objects of different types.\n",
        "\n",
        "      Example: One function can call .speak() on any animal, without caring if it’s a Dog or Cat.\n",
        "\n",
        "      2. Flexibility & Scalability\n",
        "\n",
        "      You can add new subclasses without changing existing code.\n",
        "\n",
        "      Makes it easier to scale applications and support future changes.\n",
        "\n",
        "      3. Clean and Readable Code\n",
        "\n",
        "      Avoids long chains of if-else or type checks.\n",
        "\n",
        "      Enables dynamic behavior at runtime.\n",
        "\n",
        "      4. Supports Open/Closed Principle (SOLID)\n",
        "\n",
        "15. What is an abstract class in Python?\n",
        "   - An abstract class in Python is a blueprint for other classes. It:\n",
        "\n",
        "      Cannot be instantiated directly\n",
        "\n",
        "      Can define abstract methods (methods with no implementation)\n",
        "\n",
        "      Is used to enforce certain methods in child classes\n",
        "\n",
        "      Why Use Abstract Classes?\n",
        "\n",
        "      To define a common interface that all subclasses must follow\n",
        "\n",
        "      To ensure consistency across related classes\n",
        "\n",
        "16.  What are the advantages of OOP?\n",
        "   - Object-Oriented Programming (OOP) is a programming paradigm based on the concept of \"objects\", which bundle data and behavior together. Python supports OOP fully.\n",
        "\n",
        "      Here are the main advantages of using OOP:\n",
        "\n",
        "      1. Modularity\n",
        "\n",
        "      Code is organized into classes and objects.\n",
        "\n",
        "      Makes programs easier to understand, debug, and maintain.\n",
        "\n",
        "      2. Reusability\n",
        "\n",
        "      Classes can be reused across programs.\n",
        "\n",
        "      Inheritance allows new classes to be created from existing ones.\n",
        "\n",
        "      3. Encapsulation\n",
        "\n",
        "      Keeps data safe from outside interference by hiding internal details.\n",
        "\n",
        "      Promotes data security and controlled access.\n",
        "\n",
        "      4. Polymorphism\n",
        "\n",
        "      Allows for methods with the same name to behave differently based on the object.\n",
        "\n",
        "      Helps write flexible and general-purpose code.\n",
        "\n",
        "      5. Inheritance\n",
        "\n",
        "      Lets you build on existing code instead of rewriting it.\n",
        "\n",
        "      Enables code reuse and logical relationships (e.g., Dog is an Animal).\n",
        "\n",
        "      6. Abstraction\n",
        "\n",
        "      Allows you to focus on essential features without worrying about the internal implementation.\n",
        "\n",
        "      Reduces complexity for users of the class.\n",
        "\n",
        "      7. Easier Maintenance & Scalability\n",
        "\n",
        "      Since code is modular and reusable, large systems are easier to maintain and scale.\n",
        "\n",
        "17. What is the difference between a class variable and an instance variable?\n",
        "   -\n",
        "\n",
        "    | Aspect                | Class Variable                               | Instance Variable                           |\n",
        "    |-----------------------|----------------------------------------------|---------------------------------------------|\n",
        "    | **Definition**        | Variable shared **by all instances** of a class | Variable unique to **each instance** of a class |\n",
        "    | **Scope**             | Belongs to the **class itself**                | Belongs to the **specific object/instance**   |\n",
        "    | **Memory**            | Stored **once** and shared                      | Stored **separately** for each object          |\n",
        "    | **Access**            | Accessed via `ClassName.variable` or `self.variable` | Accessed via `self.variable`                     |\n",
        "    | **Use case**          | For data **common to all objects**             | For data **unique to each object**              |\n",
        "    | **Modification effect** | Changing affects all instances (unless shadowed) | Changing affects only that particular instance |\n",
        "\n",
        "18. What is multiple inheritance in Python?\n",
        "   - Multiple Inheritance means a class can inherit from more than one parent class. This allows the child class to reuse features from multiple classes.\n",
        "\n",
        "      Key Points:\n",
        "\n",
        "      A class inherits attributes and methods from multiple parent classes.\n",
        "\n",
        "      Enables combining behaviors from different classes.\n",
        "\n",
        "      Python supports multiple inheritance directly.\n",
        "\n",
        "19. Explain the purpose of ‘’__str__’ and ‘__repr__’ ‘ methods in Python\n",
        "   - Both __str__ and __repr__ are special (dunder) methods that define how objects are represented as strings.\n",
        "\n",
        "      1. __repr__ — Official Representation\n",
        "\n",
        "      Goal: Provide an unambiguous string representation of the object.\n",
        "\n",
        "      Used mainly for developers.\n",
        "\n",
        "      Should ideally be a string that could be used to recreate the object.\n",
        "\n",
        "      Called by the built-in repr() function and when you inspect the object in the console.\n",
        "\n",
        "      2. __str__ — Informal / Readable Representation\n",
        "\n",
        "      Goal: Provide a user-friendly or informal string representation.\n",
        "\n",
        "      Used mainly for end users.\n",
        "\n",
        "20.  What is the significance of the ‘super()’ function in Python?\n",
        "   - The super() function is used to call a method from a parent (or superclass) inside a child (or subclass). It helps you:\n",
        "\n",
        "      Key Benefits of super():\n",
        "\n",
        "      Access Parent Methods Easily\n",
        "\n",
        "      Allows the child class to call and extend the behavior of parent methods without explicitly naming the parent class.\n",
        "\n",
        "      Supports Multiple Inheritance\n",
        "\n",
        "      Handles method resolution order (MRO) correctly, especially when multiple inheritance is involved.\n",
        "\n",
        "      Avoids Hardcoding Parent Class Name\n",
        "\n",
        "      Makes your code more maintainable and flexible if you change the parent class name.\n",
        "\n",
        "21. What is the significance of the __del__ method in Python?\n",
        "  - The __del__ method is a special destructor method in Python. It is called when an object is about to be destroyed, which usually happens when there are no more references to that object.\n",
        "\n",
        "      Key Points About __del__:\n",
        "\n",
        "      Used to clean up resources (like closing files, network connections, or releasing memory) before the object is destroyed.\n",
        "\n",
        "      Python's garbage collector automatically manages memory, but __del__ gives you a hook to do custom cleanup.\n",
        "\n",
        "      It's not guaranteed exactly when or even if __del__ will be called, so you should avoid relying on it for critical cleanup.\n",
        "\n",
        "      Overusing or misusing __del__ can cause reference cycles and memory leaks\n",
        "\n",
        "22. What is the difference between @staticmethod and @classmethod in Python?\n",
        "   -\n",
        "\n",
        "| Feature               | `@staticmethod`                           | `@classmethod`                           |\n",
        "|-----------------------|-------------------------------------------|-----------------------------------------|\n",
        "| **Binding**           | Not bound to class or instance             | Bound to the class (receives class as first arg) |\n",
        "| **First parameter**    | No implicit first argument                  | Receives `cls` (class) as first parameter |\n",
        "| **Access**            | Cannot access instance (`self`) or class (`cls`) attributes/methods directly | Can access and modify class state using `cls` |\n",
        "| **Usage**             | Utility function related to the class but independent of class/instance data | Factory methods or methods that affect the class as a whole |\n",
        "| **Call syntax**       | Can be called via class or instance without difference | Can be called via class or instance, but class is passed automatically |\n",
        "| **Example usage**     | Helper functions that logically belong to the class | Alternative constructors, modifying class variables |\n",
        "\n",
        "23.  How does polymorphism work in Python with inheritance?\n",
        "   - Polymorphism means \"many forms\" — in Python OOP, it allows objects of different classes related by inheritance to be treated through the same interface, usually by overriding methods.\n",
        "      Key Idea:\n",
        "\n",
        "      A child class overrides a method from its parent class.\n",
        "\n",
        "      When you call that method on an object, Python uses the method of the actual object's class, not the parent.\n",
        "\n",
        "      This lets you write generic code that works on parent class references but behaves differently depending on the actual child object.\n",
        "\n",
        "24. What is method chaining in Python OOP?\n",
        "   - Method chaining is a programming style where multiple methods are called on the same object in a single statement, one after another.\n",
        "\n",
        "      Each method returns the object itself (self), allowing the next method to be called immediately.\n",
        "\n",
        "      Why Use Method Chaining?\n",
        "\n",
        "      Makes code more concise and readable.\n",
        "\n",
        "      Allows a fluent interface, useful in builder patterns or configuring objects.\n",
        "\n",
        "      Helps perform multiple operations in a clean, streamlined way.\n",
        "\n",
        "25. What is the purpose of the __call__ method in Python?\n",
        "   - The __call__ method allows an instance of a class to be called as if it were a function. When you implement __call__, you can use the object with parentheses like obj().\n",
        "\n",
        "      Why Use __call__?\n",
        "\n",
        "      Make objects callable, which can simplify syntax.\n",
        "\n",
        "      Useful for function-like behavior with state.\n",
        "\n",
        "      Can be used to create function wrappers, decorators, or configurable callable objects.\n",
        "\n",
        "\n",
        "\n",
        "\n",
        "\n",
        "\n",
        "   \n",
        "  \n"
      ],
      "metadata": {
        "id": "b-yzYta7-lQI"
      }
    },
    {
      "cell_type": "markdown",
      "source": [
        "# **Practical Questions**"
      ],
      "metadata": {
        "id": "Fn_TpGm_oM70"
      }
    },
    {
      "cell_type": "markdown",
      "source": [
        "1. Create a parent class Animal with a method speak() that prints a generic message. Create a child class Dog\n",
        "that overrides the speak() method to print \"Bark"
      ],
      "metadata": {
        "id": "iEWHQDmTocjw"
      }
    },
    {
      "cell_type": "code",
      "source": [
        "class Animal:\n",
        "    def speak(self):\n",
        "        print(\"This is a generic animal sound.\")\n",
        "\n",
        "class Dog(Animal):\n",
        "    def speak(self):\n",
        "        print(\"Bark\")\n",
        "\n",
        "# Testing the classes\n",
        "animal = Animal()\n",
        "animal.speak()  # Output: This is a generic animal sound.\n",
        "\n",
        "dog = Dog()\n",
        "dog.speak()     # Output: Bark\n"
      ],
      "metadata": {
        "colab": {
          "base_uri": "https://localhost:8080/"
        },
        "id": "wD7RtiGJogiF",
        "outputId": "56f6b658-6a49-4f52-a9e7-849813c69969"
      },
      "execution_count": 1,
      "outputs": [
        {
          "output_type": "stream",
          "name": "stdout",
          "text": [
            "This is a generic animal sound.\n",
            "Bark\n"
          ]
        }
      ]
    },
    {
      "cell_type": "markdown",
      "source": [
        "2. Write a program to create an abstract class Shape with a method area(). Derive classes Circle and Rectangle\n",
        "from it and implement the area() method in both."
      ],
      "metadata": {
        "id": "3C7Q_nNMo0nq"
      }
    },
    {
      "cell_type": "code",
      "source": [
        "from abc import ABC, abstractmethod\n",
        "import math\n",
        "\n",
        "class Shape(ABC):\n",
        "    @abstractmethod\n",
        "    def area(self):\n",
        "        pass\n",
        "\n",
        "class Circle(Shape):\n",
        "    def __init__(self, radius):\n",
        "        self.radius = radius\n",
        "\n",
        "    def area(self):\n",
        "        return math.pi * self.radius ** 2\n",
        "\n",
        "class Rectangle(Shape):\n",
        "    def __init__(self, width, height):\n",
        "        self.width = width\n",
        "        self.height = height\n",
        "\n",
        "    def area(self):\n",
        "        return self.width * self.height\n",
        "\n",
        "# Testing\n",
        "circle = Circle(5)\n",
        "rectangle = Rectangle(4, 6)\n",
        "\n",
        "print(f\"Circle area: {circle.area():.2f}\")\n",
        "print(f\"Rectangle area: {rectangle.area()}\")\n"
      ],
      "metadata": {
        "colab": {
          "base_uri": "https://localhost:8080/"
        },
        "id": "aE_31crmo20S",
        "outputId": "7d7d4b7e-1546-4065-eb8c-2d3291c9f5fc"
      },
      "execution_count": 4,
      "outputs": [
        {
          "output_type": "stream",
          "name": "stdout",
          "text": [
            "Circle area: 78.54\n",
            "Rectangle area: 24\n"
          ]
        }
      ]
    },
    {
      "cell_type": "markdown",
      "source": [
        "3. Implement a multi-level inheritance scenario where a class Vehicle has an attribute type. Derive a class Car\n",
        "and further derive a class ElectricCar that adds a battery attribute."
      ],
      "metadata": {
        "id": "2QrV17inp2VD"
      }
    },
    {
      "cell_type": "code",
      "source": [
        "class Vehicle:\n",
        "    def __init__(self, type_):\n",
        "        self.type = type_\n",
        "\n",
        "    def show_type(self):\n",
        "        print(f\"Vehicle type: {self.type}\")\n",
        "\n",
        "class Car(Vehicle):\n",
        "    def __init__(self, type_, brand):\n",
        "        super().__init__(type_)\n",
        "        self.brand = brand\n",
        "\n",
        "    def show_brand(self):\n",
        "        print(f\"Car brand: {self.brand}\")\n",
        "\n",
        "class ElectricCar(Car):\n",
        "    def __init__(self, type_, brand, battery):\n",
        "        super().__init__(type_, brand)\n",
        "        self.battery = battery\n",
        "\n",
        "    def show_battery(self):\n",
        "        print(f\"Battery capacity: {self.battery} kWh\")\n",
        "\n",
        "# Testing\n",
        "my_electric_car = ElectricCar(\"Vehicle\", \"Tesla\", 100)\n",
        "my_electric_car.show_type()     # Vehicle type: Vehicle\n",
        "my_electric_car.show_brand()    # Car brand: Tesla\n",
        "my_electric_car.show_battery()  # Battery capacity: 100 kWh\n"
      ],
      "metadata": {
        "colab": {
          "base_uri": "https://localhost:8080/"
        },
        "id": "bUCylHzvqCts",
        "outputId": "4e9a7909-ecb9-42d8-c1ae-ce07218ae3e9"
      },
      "execution_count": 5,
      "outputs": [
        {
          "output_type": "stream",
          "name": "stdout",
          "text": [
            "Vehicle type: Vehicle\n",
            "Car brand: Tesla\n",
            "Battery capacity: 100 kWh\n"
          ]
        }
      ]
    },
    {
      "cell_type": "code",
      "source": [
        "4. Demonstrate polymorphism by creating a base class Bird with a method fly(). Create two derived classes\n",
        "Sparrow and Penguin that override the fly() method.\n"
      ],
      "metadata": {
        "id": "x5CG0NyvqDed"
      },
      "execution_count": null,
      "outputs": []
    },
    {
      "cell_type": "code",
      "source": [
        "class Bird:\n",
        "    def fly(self):\n",
        "        print(\"Some birds can fly.\")\n",
        "\n",
        "class Sparrow(Bird):\n",
        "    def fly(self):\n",
        "        print(\"Sparrow is flying.\")\n",
        "\n",
        "class Penguin(Bird):\n",
        "    def fly(self):\n",
        "        print(\"Penguins cannot fly.\")\n",
        "\n",
        "# Demonstrate polymorphism\n",
        "def make_bird_fly(bird: Bird):\n",
        "    bird.fly()\n",
        "\n",
        "sparrow = Sparrow()\n",
        "penguin = Penguin()\n",
        "\n",
        "make_bird_fly(sparrow)  # Sparrow is flying.\n",
        "make_bird_fly(penguin)  # Penguins cannot fly.\n"
      ],
      "metadata": {
        "colab": {
          "base_uri": "https://localhost:8080/"
        },
        "id": "tacMNjANqHOW",
        "outputId": "8c514a88-1065-4fba-b5c9-6f306a73e3c4"
      },
      "execution_count": 6,
      "outputs": [
        {
          "output_type": "stream",
          "name": "stdout",
          "text": [
            "Sparrow is flying.\n",
            "Penguins cannot fly.\n"
          ]
        }
      ]
    },
    {
      "cell_type": "markdown",
      "source": [
        "5. Write a program to demonstrate encapsulation by creating a class BankAccount with private attributes\n",
        "balance and methods to deposit, withdraw, and check balance."
      ],
      "metadata": {
        "id": "4X4efLrLqNOB"
      }
    },
    {
      "cell_type": "code",
      "source": [
        "class BankAccount:\n",
        "    def __init__(self, initial_balance=0):\n",
        "        self.__balance = initial_balance  # Private attribute\n",
        "\n",
        "    def deposit(self, amount):\n",
        "        if amount > 0:\n",
        "            self.__balance += amount\n",
        "            print(f\"Deposited: ${amount}\")\n",
        "        else:\n",
        "            print(\"Invalid deposit amount\")\n",
        "\n",
        "    def withdraw(self, amount):\n",
        "        if 0 < amount <= self.__balance:\n",
        "            self.__balance -= amount\n",
        "            print(f\"Withdrew: ${amount}\")\n",
        "        else:\n",
        "            print(\"Insufficient balance or invalid amount\")\n",
        "\n",
        "    def check_balance(self):\n",
        "        print(f\"Current balance: ${self.__balance}\")\n",
        "\n",
        "# Testing encapsulation\n",
        "account = BankAccount(100)\n",
        "account.check_balance()  # Current balance: $100\n",
        "account.deposit(50)      # Deposited: $50\n",
        "account.check_balance()  # Current balance: $150\n",
        "account.withdraw(70)     # Withdrew: $70\n",
        "account.check_balance()  # Current balance: $80\n",
        "\n",
        "# Trying to access private attribute directly (will raise error if uncommented)\n",
        "# print(account.__balance)\n"
      ],
      "metadata": {
        "colab": {
          "base_uri": "https://localhost:8080/"
        },
        "id": "jR-7okzcqOIM",
        "outputId": "63e8188a-9953-4560-a475-3a546064799b"
      },
      "execution_count": 8,
      "outputs": [
        {
          "output_type": "stream",
          "name": "stdout",
          "text": [
            "Current balance: $100\n",
            "Deposited: $50\n",
            "Current balance: $150\n",
            "Withdrew: $70\n",
            "Current balance: $80\n"
          ]
        }
      ]
    },
    {
      "cell_type": "markdown",
      "source": [
        "6. Demonstrate runtime polymorphism using a method play() in a base class Instrument. Derive classes Guitar\n",
        "and Piano that implement their own version of play()."
      ],
      "metadata": {
        "id": "Ds-_W-2bqYcu"
      }
    },
    {
      "cell_type": "code",
      "source": [
        "class Instrument:\n",
        "    def play(self):\n",
        "        print(\"Playing an instrument...\")\n",
        "\n",
        "class Guitar(Instrument):\n",
        "    def play(self):\n",
        "        print(\"Strumming the guitar 🎸\")\n",
        "\n",
        "class Piano(Instrument):\n",
        "    def play(self):\n",
        "        print(\"Playing the piano 🎹\")\n",
        "\n",
        "# Function to demonstrate runtime polymorphism\n",
        "def start_playing(instrument: Instrument):\n",
        "    instrument.play()\n",
        "\n",
        "# Create instances\n",
        "g = Guitar()\n",
        "p = Piano()\n",
        "\n",
        "# Runtime polymorphism: method depends on object type, not reference type\n",
        "start_playing(g)  # Strumming the guitar 🎸\n",
        "start_playing(p)  # Playing the piano 🎹\n"
      ],
      "metadata": {
        "colab": {
          "base_uri": "https://localhost:8080/"
        },
        "id": "fAYGnhfJqbFD",
        "outputId": "853c9c50-8f2f-47aa-f098-799dc293aaaa"
      },
      "execution_count": 10,
      "outputs": [
        {
          "output_type": "stream",
          "name": "stdout",
          "text": [
            "Strumming the guitar 🎸\n",
            "Playing the piano 🎹\n"
          ]
        }
      ]
    },
    {
      "cell_type": "markdown",
      "source": [
        "7. Create a class MathOperations with a class method add_numbers() to add two numbers and a static\n",
        "method subtract_numbers() to subtract two numbers."
      ],
      "metadata": {
        "id": "7WJ4KfblqqZz"
      }
    },
    {
      "cell_type": "code",
      "source": [
        "class MathOperations:\n",
        "    @classmethod\n",
        "    def add_numbers(cls, a, b):\n",
        "        return a + b\n",
        "\n",
        "    @staticmethod\n",
        "    def subtract_numbers(a, b):\n",
        "        return a - b\n",
        "\n",
        "# Testing the methods\n",
        "# Class method can be called using class or instance\n",
        "print(\"Addition:\", MathOperations.add_numbers(10, 5))      # Output: 15\n",
        "\n",
        "# Static method can be called using class or instance\n",
        "print(\"Subtraction:\", MathOperations.subtract_numbers(10, 5))  # Output: 5\n"
      ],
      "metadata": {
        "colab": {
          "base_uri": "https://localhost:8080/"
        },
        "id": "iZKn7GLZqrcN",
        "outputId": "3a2b3e0f-7669-4efa-d344-c93956c45762"
      },
      "execution_count": 11,
      "outputs": [
        {
          "output_type": "stream",
          "name": "stdout",
          "text": [
            "Addition: 15\n",
            "Subtraction: 5\n"
          ]
        }
      ]
    },
    {
      "cell_type": "markdown",
      "source": [
        "8. Implement a class Person with a class method to count the total number of persons created."
      ],
      "metadata": {
        "id": "7udX32wsqzLN"
      }
    },
    {
      "cell_type": "code",
      "source": [
        "class Person:\n",
        "    _count = 0  # Class variable to count instances\n",
        "\n",
        "    def __init__(self, name):\n",
        "        self.name = name\n",
        "        Person._count += 1\n",
        "\n",
        "    @classmethod\n",
        "    def total_persons(cls):\n",
        "        return cls._count\n",
        "\n",
        "# Creating Person objects\n",
        "p1 = Person(\"Alice\")\n",
        "p2 = Person(\"Bob\")\n",
        "p3 = Person(\"Charlie\")\n",
        "\n",
        "# Display total number of Person instances\n",
        "print(\"Total persons created:\", Person.total_persons())  # Output: 3\n"
      ],
      "metadata": {
        "colab": {
          "base_uri": "https://localhost:8080/"
        },
        "id": "j3QzNZvSq0Lc",
        "outputId": "f14cd6ef-63e6-4b6a-c858-b4eaaa316169"
      },
      "execution_count": 12,
      "outputs": [
        {
          "output_type": "stream",
          "name": "stdout",
          "text": [
            "Total persons created: 3\n"
          ]
        }
      ]
    },
    {
      "cell_type": "code",
      "source": [
        "9. Write a class Fraction with attributes numerator and denominator. Override the str method to display the\n",
        "fraction as \"numerator/denominator\"."
      ],
      "metadata": {
        "id": "YqZ6VdI6q4Yj"
      },
      "execution_count": null,
      "outputs": []
    },
    {
      "cell_type": "code",
      "source": [
        "class Fraction:\n",
        "    def __init__(self, numerator, denominator):\n",
        "        self.numerator = numerator\n",
        "        self.denominator = denominator\n",
        "\n",
        "    def __str__(self):\n",
        "        return f\"{self.numerator}/{self.denominator}\"\n",
        "\n",
        "# Testing the class\n",
        "f1 = Fraction(3, 4)\n",
        "f2 = Fraction(5, 8)\n",
        "\n",
        "print(f1)  # Output: 3/4\n",
        "print(f2)  # Output: 5/8\n"
      ],
      "metadata": {
        "colab": {
          "base_uri": "https://localhost:8080/"
        },
        "id": "GC6O-TYtq7Im",
        "outputId": "1495d650-a055-49bd-a607-05fa44826bba"
      },
      "execution_count": 13,
      "outputs": [
        {
          "output_type": "stream",
          "name": "stdout",
          "text": [
            "3/4\n",
            "5/8\n"
          ]
        }
      ]
    },
    {
      "cell_type": "code",
      "source": [
        "10. Demonstrate operator overloading by creating a class Vector and overriding the add method to add two\n",
        "vectors."
      ],
      "metadata": {
        "id": "mMr5EPKjq_Cx"
      },
      "execution_count": null,
      "outputs": []
    },
    {
      "cell_type": "code",
      "source": [
        "class Vector:\n",
        "    def __init__(self, x, y):\n",
        "        self.x = x\n",
        "        self.y = y\n",
        "\n",
        "    def __add__(self, other):\n",
        "        if isinstance(other, Vector):\n",
        "            return Vector(self.x + other.x, self.y + other.y)\n",
        "        return NotImplemented\n",
        "\n",
        "    def __str__(self):\n",
        "        return f\"Vector({self.x}, {self.y})\"\n",
        "\n",
        "# Create two vectors\n",
        "v1 = Vector(2, 3)\n",
        "v2 = Vector(4, 5)\n",
        "\n",
        "# Add using overloaded '+' operator\n",
        "v3 = v1 + v2\n",
        "\n",
        "# Display result\n",
        "print(\"v1:\", v1)  # Vector(2, 3)\n",
        "print(\"v2:\", v2)  # Vector(4, 5)\n",
        "print(\"v1 + v2 =\", v3)  # Vector(6, 8)\n"
      ],
      "metadata": {
        "colab": {
          "base_uri": "https://localhost:8080/"
        },
        "id": "-dv3HCsurCst",
        "outputId": "1011cedc-4abb-4092-904d-3388157d14c9"
      },
      "execution_count": 14,
      "outputs": [
        {
          "output_type": "stream",
          "name": "stdout",
          "text": [
            "v1: Vector(2, 3)\n",
            "v2: Vector(4, 5)\n",
            "v1 + v2 = Vector(6, 8)\n"
          ]
        }
      ]
    },
    {
      "cell_type": "markdown",
      "source": [
        "11. Create a class Person with attributes name and age. Add a method greet() that prints \"Hello, my name is\n",
        "{name} and I am {age} years old.\""
      ],
      "metadata": {
        "id": "d63-37x6rMgJ"
      }
    },
    {
      "cell_type": "code",
      "source": [
        "class Person:\n",
        "    def __init__(self, name, age):\n",
        "        self.name = name\n",
        "        self.age = age\n",
        "\n",
        "    def greet(self):\n",
        "        print(f\"Hello, my name is {self.name} and I am {self.age} years old.\")\n",
        "\n",
        "# Example usage\n",
        "p1 = Person(\"Alice\", 25)\n",
        "p1.greet()  # Output: Hello, my name is Alice and I am 25 years old.\n"
      ],
      "metadata": {
        "colab": {
          "base_uri": "https://localhost:8080/"
        },
        "id": "DToSWW6WrNrk",
        "outputId": "87ea5ec3-455a-4eff-e00f-4ba18c72d8bf"
      },
      "execution_count": 15,
      "outputs": [
        {
          "output_type": "stream",
          "name": "stdout",
          "text": [
            "Hello, my name is Alice and I am 25 years old.\n"
          ]
        }
      ]
    },
    {
      "cell_type": "markdown",
      "source": [
        "12. Implement a class Student with attributes name and grades. Create a method average_grade() to compute\n",
        "the average of the grades."
      ],
      "metadata": {
        "id": "ZPb5BpuzrVgb"
      }
    },
    {
      "cell_type": "code",
      "source": [
        "class Student:\n",
        "    def __init__(self, name, grades):\n",
        "        self.name = name\n",
        "        self.grades = grades  # List of grades\n",
        "\n",
        "    def average_grade(self):\n",
        "        if not self.grades:\n",
        "            return 0\n",
        "        return sum(self.grades) / len(self.grades)\n",
        "\n",
        "# Example usage\n",
        "student1 = Student(\"John\", [85, 90, 78, 92])\n",
        "student2 = Student(\"Jane\", [100, 95, 88])\n",
        "\n",
        "print(f\"{student1.name}'s average grade: {student1.average_grade():.2f}\")\n",
        "print(f\"{student2.name}'s average grade: {student2.average_grade():.2f}\")\n"
      ],
      "metadata": {
        "colab": {
          "base_uri": "https://localhost:8080/"
        },
        "id": "4CMrtMN0rW0f",
        "outputId": "49d6ad6e-33b7-4c46-d8d7-853153d7dd18"
      },
      "execution_count": 16,
      "outputs": [
        {
          "output_type": "stream",
          "name": "stdout",
          "text": [
            "John's average grade: 86.25\n",
            "Jane's average grade: 94.33\n"
          ]
        }
      ]
    },
    {
      "cell_type": "code",
      "source": [
        "13. Create a class Rectangle with methods set_dimensions() to set the dimensions and area() to calculate the\n",
        "area."
      ],
      "metadata": {
        "id": "3bQrQa6brcmZ"
      },
      "execution_count": null,
      "outputs": []
    },
    {
      "cell_type": "code",
      "source": [
        "class Rectangle:\n",
        "    def __init__(self):\n",
        "        self.width = 0\n",
        "        self.height = 0\n",
        "\n",
        "    def set_dimensions(self, width, height):\n",
        "        self.width = width\n",
        "        self.height = height\n",
        "\n",
        "    def area(self):\n",
        "        return self.width * self.height\n",
        "\n",
        "# Example usage\n",
        "rect = Rectangle()\n",
        "rect.set_dimensions(5, 10)\n",
        "print(f\"Area of rectangle: {rect.area()}\")  # Output: 50\n"
      ],
      "metadata": {
        "colab": {
          "base_uri": "https://localhost:8080/"
        },
        "id": "580ahk5MriHe",
        "outputId": "356ac6ed-5da4-4a9a-8681-8b3d2a7fed61"
      },
      "execution_count": 17,
      "outputs": [
        {
          "output_type": "stream",
          "name": "stdout",
          "text": [
            "Area of rectangle: 50\n"
          ]
        }
      ]
    },
    {
      "cell_type": "markdown",
      "source": [
        "14. Create a class Employee with a method calculate_salary() that computes the salary based on hours worked\n",
        "and hourly rate. Create a derived class Manager that adds a bonus to the salary."
      ],
      "metadata": {
        "id": "CKfwFxXfrxub"
      }
    },
    {
      "cell_type": "code",
      "source": [
        "class Employee:\n",
        "    def calculate_salary(self, hours_worked, hourly_rate):\n",
        "        return hours_worked * hourly_rate\n",
        "\n",
        "class Manager(Employee):\n",
        "    def __init__(self, bonus):\n",
        "        self.bonus = bonus\n",
        "\n",
        "    def calculate_salary(self, hours_worked, hourly_rate):\n",
        "        base_salary = super().calculate_salary(hours_worked, hourly_rate)\n",
        "        return base_salary + self.bonus\n",
        "\n",
        "# Example usage\n",
        "emp = Employee()\n",
        "print(\"Employee Salary:\", emp.calculate_salary(40, 20))  # 800\n",
        "\n",
        "mgr = Manager(bonus=500)\n",
        "print(\"Manager Salary:\", mgr.calculate_salary(40, 20))   # 1300\n"
      ],
      "metadata": {
        "colab": {
          "base_uri": "https://localhost:8080/"
        },
        "id": "Qx_B2rF0ryts",
        "outputId": "81502ca2-19b2-426e-9803-f34590b00bdf"
      },
      "execution_count": 18,
      "outputs": [
        {
          "output_type": "stream",
          "name": "stdout",
          "text": [
            "Employee Salary: 800\n",
            "Manager Salary: 1300\n"
          ]
        }
      ]
    },
    {
      "cell_type": "markdown",
      "source": [
        "15. Create a class Product with attributes name, price, and quantity. Implement a method total_price() that\n",
        "calculates the total price of the product"
      ],
      "metadata": {
        "id": "hEDTJZXir7hk"
      }
    },
    {
      "cell_type": "code",
      "source": [
        "class Product:\n",
        "    def __init__(self, name, price, quantity):\n",
        "        self.name = name\n",
        "        self.price = price\n",
        "        self.quantity = quantity\n",
        "\n",
        "    def total_price(self):\n",
        "        return self.price * self.quantity\n",
        "\n",
        "# Example usage\n",
        "product1 = Product(\"Laptop\", 75000, 2)\n",
        "product2 = Product(\"Phone\", 25000, 3)\n",
        "\n",
        "print(f\"{product1.name} total price: ₹{product1.total_price()}\")\n",
        "print(f\"{product2.name} total price: ₹{product2.total_price()}\")\n"
      ],
      "metadata": {
        "colab": {
          "base_uri": "https://localhost:8080/"
        },
        "id": "CPGHcs-Jr8cL",
        "outputId": "c710dc68-6800-402f-b83e-7460a4918bdd"
      },
      "execution_count": 19,
      "outputs": [
        {
          "output_type": "stream",
          "name": "stdout",
          "text": [
            "Laptop total price: ₹150000\n",
            "Phone total price: ₹75000\n"
          ]
        }
      ]
    },
    {
      "cell_type": "markdown",
      "source": [
        "16. Create a class Animal with an abstract method sound(). Create two derived classes Cow and Sheep that\n",
        "implement the sound() method."
      ],
      "metadata": {
        "id": "m96bawiisFvN"
      }
    },
    {
      "cell_type": "code",
      "source": [
        "from abc import ABC, abstractmethod\n",
        "\n",
        "class Animal(ABC):\n",
        "    @abstractmethod\n",
        "    def sound(self):\n",
        "        pass\n",
        "\n",
        "class Cow(Animal):\n",
        "    def sound(self):\n",
        "        print(\"Moo\")\n",
        "\n",
        "class Sheep(Animal):\n",
        "    def sound(self):\n",
        "        print(\"Baa\")\n",
        "\n",
        "# Testing\n",
        "cow = Cow()\n",
        "sheep = Sheep()\n",
        "\n",
        "cow.sound()\n",
        "sheep.sound()\n"
      ],
      "metadata": {
        "colab": {
          "base_uri": "https://localhost:8080/"
        },
        "id": "bxgtS0CWsGsT",
        "outputId": "27c05d4c-2437-4f27-d406-0a39a1214e0a"
      },
      "execution_count": 20,
      "outputs": [
        {
          "output_type": "stream",
          "name": "stdout",
          "text": [
            "Moo\n",
            "Baa\n"
          ]
        }
      ]
    },
    {
      "cell_type": "markdown",
      "source": [
        "17. Create a class Book with attributes title, author, and year_published. Add a method get_book_info() that\n",
        "returns a formatted string with the book's details."
      ],
      "metadata": {
        "id": "HaOXgKS4sRaF"
      }
    },
    {
      "cell_type": "code",
      "source": [
        "class Book:\n",
        "    def __init__(self, title, author, year_published):\n",
        "        self.title = title\n",
        "        self.author = author\n",
        "        self.year_published = year_published\n",
        "\n",
        "    def get_book_info(self):\n",
        "        return f\"'{self.title}' by {self.author}, published in {self.year_published}\"\n",
        "\n",
        "# Example usage\n",
        "book1 = Book(\"1984\", \"George Orwell\", 1949)\n",
        "print(book1.get_book_info())  # Output: '1984' by George Orwell, published in 1949\n"
      ],
      "metadata": {
        "colab": {
          "base_uri": "https://localhost:8080/"
        },
        "id": "a1tXVHR8sUxc",
        "outputId": "84f4d8ab-5274-4e89-ce79-eab2a1393314"
      },
      "execution_count": 21,
      "outputs": [
        {
          "output_type": "stream",
          "name": "stdout",
          "text": [
            "'1984' by George Orwell, published in 1949\n"
          ]
        }
      ]
    },
    {
      "cell_type": "markdown",
      "source": [
        "18. Create a class House with attributes address and price. Create a derived class Mansion that adds an\n",
        "attribute number_of_rooms."
      ],
      "metadata": {
        "id": "HRSDlXOBsbXA"
      }
    },
    {
      "cell_type": "code",
      "source": [
        "class House:\n",
        "    def __init__(self, address, price):\n",
        "        self.address = address\n",
        "        self.price = price\n",
        "\n",
        "class Mansion(House):\n",
        "    def __init__(self, address, price, number_of_rooms):\n",
        "        super().__init__(address, price)\n",
        "        self.number_of_rooms = number_of_rooms\n",
        "\n",
        "# Example usage\n",
        "house = House(\"123 Maple St\", 250000)\n",
        "mansion = Mansion(\"456 Oak Ave\", 1500000, 10)\n",
        "\n",
        "print(f\"House Address: {house.address}, Price: ${house.price}\")\n",
        "print(f\"Mansion Address: {mansion.address}, Price: ${mansion.price}, Rooms: {mansion.number_of_rooms}\")\n"
      ],
      "metadata": {
        "colab": {
          "base_uri": "https://localhost:8080/"
        },
        "id": "greS4JW1sb89",
        "outputId": "1ff0fba0-7e98-4fc4-a333-974199c61cbc"
      },
      "execution_count": 22,
      "outputs": [
        {
          "output_type": "stream",
          "name": "stdout",
          "text": [
            "House Address: 123 Maple St, Price: $250000\n",
            "Mansion Address: 456 Oak Ave, Price: $1500000, Rooms: 10\n"
          ]
        }
      ]
    },
    {
      "cell_type": "code",
      "source": [],
      "metadata": {
        "id": "DRD3HnY6sfR3"
      },
      "execution_count": null,
      "outputs": []
    }
  ]
}